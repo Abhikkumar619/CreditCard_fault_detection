{
 "cells": [
  {
   "cell_type": "code",
   "execution_count": 1,
   "metadata": {},
   "outputs": [
    {
     "name": "stderr",
     "output_type": "stream",
     "text": [
      "C:\\Users\\abish\\AppData\\Local\\Temp\\ipykernel_4476\\2619883542.py:1: DeprecationWarning: \n",
      "Pyarrow will become a required dependency of pandas in the next major release of pandas (pandas 3.0),\n",
      "(to allow more performant data types, such as the Arrow string type, and better interoperability with other libraries)\n",
      "but was not found to be installed on your system.\n",
      "If this would cause problems for you,\n",
      "please provide us feedback at https://github.com/pandas-dev/pandas/issues/54466\n",
      "        \n",
      "  import pandas as pd\n"
     ]
    }
   ],
   "source": [
    "import pandas as pd\n",
    "import numpy as np\n",
    "import os"
   ]
  },
  {
   "cell_type": "code",
   "execution_count": 2,
   "metadata": {},
   "outputs": [],
   "source": [
    "os.chdir(\"../\")"
   ]
  },
  {
   "cell_type": "code",
   "execution_count": 3,
   "metadata": {},
   "outputs": [
    {
     "data": {
      "text/plain": [
       "'c:\\\\TheBritishCollege\\\\DataScience\\\\CreditCard_fault_detection'"
      ]
     },
     "execution_count": 3,
     "metadata": {},
     "output_type": "execute_result"
    }
   ],
   "source": [
    "os.getcwd()"
   ]
  },
  {
   "cell_type": "code",
   "execution_count": 4,
   "metadata": {},
   "outputs": [],
   "source": [
    "from dataclasses import dataclass\n",
    "from pathlib import Path"
   ]
  },
  {
   "cell_type": "code",
   "execution_count": 5,
   "metadata": {},
   "outputs": [],
   "source": [
    "@dataclass(frozen=True)\n",
    "class DataIngestionConfig:\n",
    "    root_dir: Path\n",
    "    data_url: Path\n",
    "    raw_data: Path\n",
    "    unzip_dir: Path\n",
    "    "
   ]
  },
  {
   "cell_type": "code",
   "execution_count": 6,
   "metadata": {},
   "outputs": [],
   "source": [
    "from src.Credit_card_project.utils.common import read_yaml,create_directories\n",
    "from src.Credit_card_project.constant import *"
   ]
  },
  {
   "cell_type": "code",
   "execution_count": 7,
   "metadata": {},
   "outputs": [],
   "source": [
    "class ConfigurationManager: \n",
    "    def __init__(self,config_file_path= CONFIG_FILE_PATH,\n",
    "                 params_file_path= PARAMS_FILE_PATH,\n",
    "                 schema_file_path=SCHEMA_FILE_PATH\n",
    "                 ):\n",
    "        self.config=read_yaml(config_file_path)\n",
    "        self.sparams=read_yaml(params_file_path)\n",
    "        self.schema=read_yaml(schema_file_path)\n",
    "        \n",
    "        create_directories([self.config.artifacts_root])\n",
    "    \n",
    "    def get_data_ingestion_config(self)->DataIngestionConfig:\n",
    "        \n",
    "        config= self.config.data_ingestion\n",
    "        create_directories([config.root_dir])\n",
    "        \n",
    "        data_ingestion_config=DataIngestionConfig(\n",
    "            root_dir=config.root_dir,\n",
    "            data_url=config.data_url,\n",
    "            raw_data=config.raw_data,\n",
    "            unzip_dir=config.unzip_dir)\n",
    "        \n",
    "        return data_ingestion_config\n",
    "        \n",
    "    "
   ]
  },
  {
   "cell_type": "code",
   "execution_count": 8,
   "metadata": {},
   "outputs": [],
   "source": [
    "from urllib.request import urlretrieve\n",
    "from src.Credit_card_project import logger\n",
    "import zipfile"
   ]
  },
  {
   "cell_type": "code",
   "execution_count": 12,
   "metadata": {},
   "outputs": [],
   "source": [
    "class DataIngestion: \n",
    "    def __init__(self, config: DataIngestionConfig): \n",
    "        self.config=config\n",
    "        \n",
    "    def download_data(self):\n",
    "        if not os.path.exists(self.config.raw_data): \n",
    "            file_name, header=urlretrieve(url=self.config.data_url, filename=self.config.raw_data)\n",
    "            logger.info(f\"data download file name: {file_name}, hader: {header}\")\n",
    "        else: \n",
    "            logger.info(f\"Data is already exists {self.config.raw_data}\")\n",
    "    \n",
    "    def UnZipFile(self): \n",
    "        unfile_path=self.config.root_dir\n",
    "        with zipfile.ZipFile(self.config.raw_data,'r') as zip_r: \n",
    "            zip_r.extractall(unfile_path)"
   ]
  },
  {
   "cell_type": "code",
   "execution_count": 13,
   "metadata": {},
   "outputs": [
    {
     "name": "stdout",
     "output_type": "stream",
     "text": [
      "[2024-01-31 20:03:34,749: INFO, common : Yaml file read config\\config.yaml successfully]\n",
      "[2024-01-31 20:03:34,767: INFO, common : Yaml file read params.yaml successfully]\n",
      "[2024-01-31 20:03:34,773: INFO, common : Yaml file read schema.yaml successfully]\n",
      "[2024-01-31 20:03:34,779: INFO, common : Directories created ['artifacts']]\n",
      "[2024-01-31 20:03:34,784: INFO, common : Directories created ['artifacts/data_ingestion']]\n",
      "[2024-01-31 20:03:38,912: INFO, 708526536 : data download file name: artifacts/data_ingestion/creditCard.zip, hader: Server: GitHub.com\n",
      "Date: Wed, 31 Jan 2024 14:18:38 GMT\n",
      "Content-Type: text/html; charset=utf-8\n",
      "Vary: X-PJAX, X-PJAX-Container, Turbo-Visit, Turbo-Frame, Accept-Encoding, Accept, X-Requested-With\n",
      "ETag: W/\"bf279f49c902cd0d1951899d54f4c187\"\n",
      "Cache-Control: max-age=0, private, must-revalidate\n",
      "Strict-Transport-Security: max-age=31536000; includeSubdomains; preload\n",
      "X-Frame-Options: deny\n",
      "X-Content-Type-Options: nosniff\n",
      "X-XSS-Protection: 0\n",
      "Referrer-Policy: no-referrer-when-downgrade\n",
      "Content-Security-Policy: default-src 'none'; base-uri 'self'; child-src github.com/assets-cdn/worker/ gist.github.com/assets-cdn/worker/; connect-src 'self' uploads.github.com www.githubstatus.com collector.github.com raw.githubusercontent.com api.github.com github-cloud.s3.amazonaws.com github-production-repository-file-5c1aeb.s3.amazonaws.com github-production-upload-manifest-file-7fdce7.s3.amazonaws.com github-production-user-asset-6210df.s3.amazonaws.com cdn.optimizely.com logx.optimizely.com/v1/events api.githubcopilot.com objects-origin.githubusercontent.com *.actions.githubusercontent.com wss://*.actions.githubusercontent.com productionresultssa0.blob.core.windows.net/ productionresultssa1.blob.core.windows.net/ productionresultssa2.blob.core.windows.net/ productionresultssa3.blob.core.windows.net/ productionresultssa4.blob.core.windows.net/ productionresultssa5.blob.core.windows.net/ productionresultssa6.blob.core.windows.net/ productionresultssa7.blob.core.windows.net/ productionresultssa8.blob.core.windows.net/ productionresultssa9.blob.core.windows.net/ github-production-repository-image-32fea6.s3.amazonaws.com github-production-release-asset-2e65be.s3.amazonaws.com insights.github.com wss://alive.github.com; font-src github.githubassets.com; form-action 'self' github.com gist.github.com objects-origin.githubusercontent.com; frame-ancestors 'none'; frame-src viewscreen.githubusercontent.com notebooks.githubusercontent.com; img-src 'self' data: github.githubassets.com media.githubusercontent.com camo.githubusercontent.com identicons.github.com avatars.githubusercontent.com github-cloud.s3.amazonaws.com objects.githubusercontent.com secured-user-images.githubusercontent.com/ user-images.githubusercontent.com/ private-user-images.githubusercontent.com opengraph.githubassets.com github-production-user-asset-6210df.s3.amazonaws.com customer-stories-feed.github.com spotlights-feed.github.com objects-origin.githubusercontent.com *.githubusercontent.com; manifest-src 'self'; media-src github.com user-images.githubusercontent.com/ secured-user-images.githubusercontent.com/ private-user-images.githubusercontent.com github-production-user-asset-6210df.s3.amazonaws.com gist.github.com; script-src github.githubassets.com; style-src 'unsafe-inline' github.githubassets.com; upgrade-insecure-requests; worker-src github.com/assets-cdn/worker/ gist.github.com/assets-cdn/worker/\n",
      "Set-Cookie: _gh_sess=0iUpFGNzdoFDLFk7sJlCr65jj1TDlFbDL3ohk7%2FyQaZKoky5gEQlIDwG7VJgZxaGWJepUdsbhgQFP9IOa94zttWixHNpI35W7JOJJFG2s4R2f%2FrnesDCNAkSohX3e0UHKK72eXWq6DcltUOtmNOKln3VBzDqVGvlbwLce1EpqglJlyhY75vNNOpC7KpqaGDRan4V1vHuYRiKsoIaZ3f0OOe4utISsqlTqQ9oA2wrZdQAoKFg7ffTGuVtS5CFmTpReDocC6KQi0L4Y6e102cQCg%3D%3D--ysIrXzrzfqSfupAH--EuIQm39t2NZJdC9UFivdlQ%3D%3D; Path=/; HttpOnly; Secure; SameSite=Lax\n",
      "Set-Cookie: _octo=GH1.1.848142168.1706710717; Path=/; Domain=github.com; Expires=Fri, 31 Jan 2025 14:18:37 GMT; Secure; SameSite=Lax\n",
      "Set-Cookie: logged_in=no; Path=/; Domain=github.com; Expires=Fri, 31 Jan 2025 14:18:37 GMT; HttpOnly; Secure; SameSite=Lax\n",
      "Accept-Ranges: bytes\n",
      "Transfer-Encoding: chunked\n",
      "X-GitHub-Request-Id: A357:271E8E:D0DF3:E1132:65BA56BD\n",
      "connection: close\n",
      "\n",
      "]\n"
     ]
    },
    {
     "ename": "BadZipFile",
     "evalue": "File is not a zip file",
     "output_type": "error",
     "traceback": [
      "\u001b[1;31m---------------------------------------------------------------------------\u001b[0m",
      "\u001b[1;31mBadZipFile\u001b[0m                                Traceback (most recent call last)",
      "Cell \u001b[1;32mIn[13], line 5\u001b[0m\n\u001b[0;32m      3\u001b[0m dataingestion\u001b[38;5;241m=\u001b[39mDataIngestion(dataingestion_config)\n\u001b[0;32m      4\u001b[0m dataingestion\u001b[38;5;241m.\u001b[39mdownload_data()\n\u001b[1;32m----> 5\u001b[0m \u001b[43mdataingestion\u001b[49m\u001b[38;5;241;43m.\u001b[39;49m\u001b[43mUnZipFile\u001b[49m\u001b[43m(\u001b[49m\u001b[43m)\u001b[49m\n",
      "Cell \u001b[1;32mIn[12], line 14\u001b[0m, in \u001b[0;36mDataIngestion.UnZipFile\u001b[1;34m(self)\u001b[0m\n\u001b[0;32m     12\u001b[0m \u001b[38;5;28;01mdef\u001b[39;00m \u001b[38;5;21mUnZipFile\u001b[39m(\u001b[38;5;28mself\u001b[39m): \n\u001b[0;32m     13\u001b[0m     unfile_path\u001b[38;5;241m=\u001b[39m\u001b[38;5;28mself\u001b[39m\u001b[38;5;241m.\u001b[39mconfig\u001b[38;5;241m.\u001b[39mroot_dir\n\u001b[1;32m---> 14\u001b[0m     \u001b[38;5;28;01mwith\u001b[39;00m \u001b[43mzipfile\u001b[49m\u001b[38;5;241;43m.\u001b[39;49m\u001b[43mZipFile\u001b[49m\u001b[43m(\u001b[49m\u001b[38;5;28;43mself\u001b[39;49m\u001b[38;5;241;43m.\u001b[39;49m\u001b[43mconfig\u001b[49m\u001b[38;5;241;43m.\u001b[39;49m\u001b[43mraw_data\u001b[49m\u001b[43m,\u001b[49m\u001b[38;5;124;43m'\u001b[39;49m\u001b[38;5;124;43mr\u001b[39;49m\u001b[38;5;124;43m'\u001b[39;49m\u001b[43m)\u001b[49m \u001b[38;5;28;01mas\u001b[39;00m zip_r: \n\u001b[0;32m     15\u001b[0m         zip_r\u001b[38;5;241m.\u001b[39mextractall(unfile_path)\n",
      "File \u001b[1;32mc:\\TheBritishCollege\\DataScience\\CreditCard_fault_detection\\credit_env\\lib\\zipfile.py:1266\u001b[0m, in \u001b[0;36mZipFile.__init__\u001b[1;34m(self, file, mode, compression, allowZip64, compresslevel, strict_timestamps)\u001b[0m\n\u001b[0;32m   1264\u001b[0m \u001b[38;5;28;01mtry\u001b[39;00m:\n\u001b[0;32m   1265\u001b[0m     \u001b[38;5;28;01mif\u001b[39;00m mode \u001b[38;5;241m==\u001b[39m \u001b[38;5;124m'\u001b[39m\u001b[38;5;124mr\u001b[39m\u001b[38;5;124m'\u001b[39m:\n\u001b[1;32m-> 1266\u001b[0m         \u001b[38;5;28;43mself\u001b[39;49m\u001b[38;5;241;43m.\u001b[39;49m\u001b[43m_RealGetContents\u001b[49m\u001b[43m(\u001b[49m\u001b[43m)\u001b[49m\n\u001b[0;32m   1267\u001b[0m     \u001b[38;5;28;01melif\u001b[39;00m mode \u001b[38;5;129;01min\u001b[39;00m (\u001b[38;5;124m'\u001b[39m\u001b[38;5;124mw\u001b[39m\u001b[38;5;124m'\u001b[39m, \u001b[38;5;124m'\u001b[39m\u001b[38;5;124mx\u001b[39m\u001b[38;5;124m'\u001b[39m):\n\u001b[0;32m   1268\u001b[0m         \u001b[38;5;66;03m# set the modified flag so central directory gets written\u001b[39;00m\n\u001b[0;32m   1269\u001b[0m         \u001b[38;5;66;03m# even if no files are added to the archive\u001b[39;00m\n\u001b[0;32m   1270\u001b[0m         \u001b[38;5;28mself\u001b[39m\u001b[38;5;241m.\u001b[39m_didModify \u001b[38;5;241m=\u001b[39m \u001b[38;5;28;01mTrue\u001b[39;00m\n",
      "File \u001b[1;32mc:\\TheBritishCollege\\DataScience\\CreditCard_fault_detection\\credit_env\\lib\\zipfile.py:1333\u001b[0m, in \u001b[0;36mZipFile._RealGetContents\u001b[1;34m(self)\u001b[0m\n\u001b[0;32m   1331\u001b[0m     \u001b[38;5;28;01mraise\u001b[39;00m BadZipFile(\u001b[38;5;124m\"\u001b[39m\u001b[38;5;124mFile is not a zip file\u001b[39m\u001b[38;5;124m\"\u001b[39m)\n\u001b[0;32m   1332\u001b[0m \u001b[38;5;28;01mif\u001b[39;00m \u001b[38;5;129;01mnot\u001b[39;00m endrec:\n\u001b[1;32m-> 1333\u001b[0m     \u001b[38;5;28;01mraise\u001b[39;00m BadZipFile(\u001b[38;5;124m\"\u001b[39m\u001b[38;5;124mFile is not a zip file\u001b[39m\u001b[38;5;124m\"\u001b[39m)\n\u001b[0;32m   1334\u001b[0m \u001b[38;5;28;01mif\u001b[39;00m \u001b[38;5;28mself\u001b[39m\u001b[38;5;241m.\u001b[39mdebug \u001b[38;5;241m>\u001b[39m \u001b[38;5;241m1\u001b[39m:\n\u001b[0;32m   1335\u001b[0m     \u001b[38;5;28mprint\u001b[39m(endrec)\n",
      "\u001b[1;31mBadZipFile\u001b[0m: File is not a zip file"
     ]
    }
   ],
   "source": [
    "configmanager=ConfigurationManager()\n",
    "dataingestion_config=configmanager.get_data_ingestion_config()\n",
    "dataingestion=DataIngestion(dataingestion_config)\n",
    "dataingestion.download_data()\n",
    "dataingestion.UnZipFile()"
   ]
  },
  {
   "cell_type": "code",
   "execution_count": null,
   "metadata": {},
   "outputs": [],
   "source": []
  }
 ],
 "metadata": {
  "kernelspec": {
   "display_name": "Python 3",
   "language": "python",
   "name": "python3"
  },
  "language_info": {
   "codemirror_mode": {
    "name": "ipython",
    "version": 3
   },
   "file_extension": ".py",
   "mimetype": "text/x-python",
   "name": "python",
   "nbconvert_exporter": "python",
   "pygments_lexer": "ipython3",
   "version": "3.9.18"
  }
 },
 "nbformat": 4,
 "nbformat_minor": 2
}
