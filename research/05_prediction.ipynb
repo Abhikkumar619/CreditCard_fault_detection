{
 "cells": [
  {
   "cell_type": "code",
   "execution_count": 1,
   "metadata": {},
   "outputs": [],
   "source": [
    "from pathlib import Path\n",
    "import os"
   ]
  },
  {
   "cell_type": "code",
   "execution_count": 3,
   "metadata": {},
   "outputs": [],
   "source": [
    "os.chdir(\"../\")"
   ]
  },
  {
   "cell_type": "code",
   "execution_count": 4,
   "metadata": {},
   "outputs": [
    {
     "data": {
      "text/plain": [
       "'c:\\\\TheBritishCollege\\\\DataScience\\\\CreditCard_fault_detection'"
      ]
     },
     "execution_count": 4,
     "metadata": {},
     "output_type": "execute_result"
    }
   ],
   "source": [
    "os.getcwd()"
   ]
  },
  {
   "cell_type": "code",
   "execution_count": 20,
   "metadata": {},
   "outputs": [],
   "source": [
    "from src.Credit_card_project.utils.common import read_yaml,create_directories\n",
    "from src.Credit_card_project.constant import *\n",
    "from dataclasses import dataclass"
   ]
  },
  {
   "cell_type": "code",
   "execution_count": 24,
   "metadata": {},
   "outputs": [],
   "source": [
    "@dataclass(frozen=True)\n",
    "class PredictConfig:\n",
    "    predict_output_dirname: str\n",
    "    predict_file_name: str\n",
    "    "
   ]
  },
  {
   "cell_type": "code",
   "execution_count": 25,
   "metadata": {},
   "outputs": [],
   "source": [
    "class ConfigurationManager: \n",
    "    def __init__(self,config_file_path= CONFIG_FILE_PATH,\n",
    "                 params_file_path= PARAMS_FILE_PATH,\n",
    "                 schema_file_path=SCHEMA_FILE_PATH\n",
    "                 ):\n",
    "        self.config=read_yaml(config_file_path)\n",
    "        self.sparams=read_yaml(params_file_path)\n",
    "        self.schema=read_yaml(schema_file_path)\n",
    "        \n",
    "        create_directories([self.config.artifacts_root])\n",
    "        \n",
    "    def get_predict_config(self)-> PredictConfig: \n",
    "        config=self.config.model_predict\n",
    "        predict_config=PredictConfig(\n",
    "            predict_output_dirname=config.predict_output_dirname,\n",
    "            predict_file_name=config.predict_file_name\n",
    "        )\n",
    "        return predict_config\n",
    "        "
   ]
  },
  {
   "cell_type": "code",
   "execution_count": 26,
   "metadata": {},
   "outputs": [
    {
     "name": "stdout",
     "output_type": "stream",
     "text": [
      "[2024-02-07 19:43:03,266: INFO, common : Yaml file read config\\config.yaml successfully]\n",
      "[2024-02-07 19:43:03,271: INFO, common : Yaml file read params.yaml successfully]\n",
      "[2024-02-07 19:43:03,285: INFO, common : Yaml file read schema.yaml successfully]\n",
      "[2024-02-07 19:43:03,288: INFO, common : Directories created ['artifacts']]\n"
     ]
    },
    {
     "data": {
      "text/plain": [
       "PredictConfig(predict_output_dirname='prediction', predict_file_name='predicted_file_name')"
      ]
     },
     "execution_count": 26,
     "metadata": {},
     "output_type": "execute_result"
    }
   ],
   "source": [
    "configmanager=ConfigurationManager()\n",
    "configmanager.get_predict_config()\n"
   ]
  },
  {
   "cell_type": "code",
   "execution_count": null,
   "metadata": {},
   "outputs": [],
   "source": []
  }
 ],
 "metadata": {
  "kernelspec": {
   "display_name": "Python 3",
   "language": "python",
   "name": "python3"
  },
  "language_info": {
   "codemirror_mode": {
    "name": "ipython",
    "version": 3
   },
   "file_extension": ".py",
   "mimetype": "text/x-python",
   "name": "python",
   "nbconvert_exporter": "python",
   "pygments_lexer": "ipython3",
   "version": "3.9.18"
  }
 },
 "nbformat": 4,
 "nbformat_minor": 2
}
